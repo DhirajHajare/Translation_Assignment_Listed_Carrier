{
 "cells": [
  {
   "cell_type": "code",
   "execution_count": 1,
   "id": "e1a880a8",
   "metadata": {},
   "outputs": [],
   "source": [
    "#Importing Packages\n",
    "import pandas as pd\n",
    "import numpy as np\n",
    "import nltk\n",
    "from googletrans import Translator"
   ]
  },
  {
   "cell_type": "code",
   "execution_count": 2,
   "id": "71c71f99",
   "metadata": {},
   "outputs": [
    {
     "name": "stderr",
     "output_type": "stream",
     "text": [
      "[nltk_data] Downloading package indian to\n",
      "[nltk_data]     C:\\Users\\Lenovo\\AppData\\Roaming\\nltk_data...\n",
      "[nltk_data]   Package indian is already up-to-date!\n",
      "[nltk_data] Downloading package punkt to\n",
      "[nltk_data]     C:\\Users\\Lenovo\\AppData\\Roaming\\nltk_data...\n",
      "[nltk_data]   Package punkt is already up-to-date!\n"
     ]
    },
    {
     "data": {
      "text/plain": [
       "True"
      ]
     },
     "execution_count": 2,
     "metadata": {},
     "output_type": "execute_result"
    }
   ],
   "source": [
    "nltk.download(\"indian\")\n",
    "nltk.download(\"punkt\")"
   ]
  },
  {
   "cell_type": "code",
   "execution_count": 3,
   "id": "bc511a97",
   "metadata": {},
   "outputs": [],
   "source": [
    "def translate_to_hinglish(english_text):\n",
    "    translator = Translator()\n",
    "    translated = translator.translate(english_text, src='en', dest='hi')\n",
    "    return translated.text"
   ]
  },
  {
   "cell_type": "code",
   "execution_count": 4,
   "id": "04018793",
   "metadata": {},
   "outputs": [
    {
     "name": "stdout",
     "output_type": "stream",
     "text": [
      "Enter the first English sentence: Definitely share your feedback in the comment section.\n",
      "Enter the second English sentence: So even if it's a big video, I will clearly mention all the products.\n",
      "Enter the third English sentence: I was waiting for my bag.\n",
      "Hinglish Translations:\n",
      "Sentence 1: निश्चित रूप से टिप्पणी अनुभाग में अपनी प्रतिक्रिया साझा करें।\n",
      "Sentence 2: तो भले ही यह एक बड़ा वीडियो है, मैं स्पष्ट रूप से सभी उत्पादों का उल्लेख करूंगा।\n",
      "Sentence 3: मैं अपने बैग का इंतजार कर रहा था।\n"
     ]
    }
   ],
   "source": [
    "# Get input from the user for three English sentences\n",
    "english_sentence_1 = input(\"Enter the first English sentence: \")\n",
    "english_sentence_2 = input(\"Enter the second English sentence: \")\n",
    "english_sentence_3 = input(\"Enter the third English sentence: \")\n",
    "# Perform Hinglish translation for each sentence\n",
    "hinglish_translation_1 = translate_to_hinglish(english_sentence_1)\n",
    "hinglish_translation_2 = translate_to_hinglish(english_sentence_2)\n",
    "hinglish_translation_3 = translate_to_hinglish(english_sentence_3)\n",
    "# Print the translated Hinglish text for each sentence\n",
    "print(\"Hinglish Translations:\")\n",
    "print(f\"Sentence 1: {hinglish_translation_1}\")\n",
    "print(f\"Sentence 2: {hinglish_translation_2}\")\n",
    "print(f\"Sentence 3: {hinglish_translation_3}\")"
   ]
  },
  {
   "cell_type": "code",
   "execution_count": 5,
   "id": "050beab1",
   "metadata": {},
   "outputs": [],
   "source": [
    "from nltk.translate.bleu_score import sentence_bleu"
   ]
  },
  {
   "cell_type": "code",
   "execution_count": 6,
   "id": "c31b2d1a",
   "metadata": {},
   "outputs": [
    {
     "name": "stdout",
     "output_type": "stream",
     "text": [
      "BLEU Score: 1.0603527689423161e-231\n"
     ]
    },
    {
     "name": "stderr",
     "output_type": "stream",
     "text": [
      "C:\\Users\\Lenovo\\.conda\\envs\\env_name\\lib\\site-packages\\nltk\\translate\\bleu_score.py:552: UserWarning: \n",
      "The hypothesis contains 0 counts of 2-gram overlaps.\n",
      "Therefore the BLEU score evaluates to 0, independently of\n",
      "how many N-gram overlaps of lower order it contains.\n",
      "Consider using lower n-gram order or use SmoothingFunction()\n",
      "  warnings.warn(_msg)\n",
      "C:\\Users\\Lenovo\\.conda\\envs\\env_name\\lib\\site-packages\\nltk\\translate\\bleu_score.py:552: UserWarning: \n",
      "The hypothesis contains 0 counts of 3-gram overlaps.\n",
      "Therefore the BLEU score evaluates to 0, independently of\n",
      "how many N-gram overlaps of lower order it contains.\n",
      "Consider using lower n-gram order or use SmoothingFunction()\n",
      "  warnings.warn(_msg)\n",
      "C:\\Users\\Lenovo\\.conda\\envs\\env_name\\lib\\site-packages\\nltk\\translate\\bleu_score.py:552: UserWarning: \n",
      "The hypothesis contains 0 counts of 4-gram overlaps.\n",
      "Therefore the BLEU score evaluates to 0, independently of\n",
      "how many N-gram overlaps of lower order it contains.\n",
      "Consider using lower n-gram order or use SmoothingFunction()\n",
      "  warnings.warn(_msg)\n"
     ]
    }
   ],
   "source": [
    "# Calculate BLEU score\n",
    "bleu_score = sentence_bleu([english_sentence_1], hinglish_translation_1)\n",
    "print(f\"BLEU Score: {bleu_score}\")"
   ]
  }
 ],
 "metadata": {
  "kernelspec": {
   "display_name": "Python 3 (ipykernel)",
   "language": "python",
   "name": "python3"
  },
  "language_info": {
   "codemirror_mode": {
    "name": "ipython",
    "version": 3
   },
   "file_extension": ".py",
   "mimetype": "text/x-python",
   "name": "python",
   "nbconvert_exporter": "python",
   "pygments_lexer": "ipython3",
   "version": "3.10.6"
  }
 },
 "nbformat": 4,
 "nbformat_minor": 5
}
